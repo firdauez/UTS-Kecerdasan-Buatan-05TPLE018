{
 "cells": [
  {
   "cell_type": "markdown",
   "id": "ed90d865-cf22-4921-ac56-ce90eec1585d",
   "metadata": {},
   "source": [
    "# **UTS**\n",
    "**NAMA : FIRDAUS HAJIYANSAH\n",
    "NIM : 221011402153\n",
    "KELAS : 05TPLE018\n",
    "MATA KULIAH : KECERDASAN BUATAN**"
   ]
  },
  {
   "cell_type": "markdown",
   "id": "bb9d2346-fe6c-44fe-aa60-f3c237457e62",
   "metadata": {},
   "source": [
    "## **Data**"
   ]
  },
  {
   "cell_type": "code",
   "execution_count": 3,
   "id": "8afa9b61-2250-42d1-9219-b7b6acd3e61d",
   "metadata": {},
   "outputs": [],
   "source": [
    "# Data\n",
    "\n",
    "company_detail_list = [\n",
    "      {\n",
    "          'name': 'Company 1',\n",
    "          'domain': 'Retail',\n",
    "          'country': 'United States'\n",
    "      },\n",
    "      {\n",
    "          'name': 'Company 2',\n",
    "          'domain': 'Technology',\n",
    "          'country': 'United Kingdom'\n",
    "      },\n",
    "      {\n",
    "          'name': 'Company 3',\n",
    "          'domain': 'Healthcare',\n",
    "          'country': 'United States'\n",
    "      }\n",
    "  ]\n",
    "\n",
    "employee_detail_list = [\n",
    "     {\n",
    "          'name': 'EMP-0001',\n",
    "          'first_name': 'John',\n",
    "          'last_name': 'Doe',\n",
    "          'full_name': 'John Doe',\n",
    "          'company': 'Company 1',\n",
    "          'nationality': 'Australia'\n",
    "      },\n",
    "      {\n",
    "          'name': 'EMP-0002',\n",
    "          'first_name': 'Tom',\n",
    "          'last_name': 'Smith',\n",
    "          'full_name': 'Tom Smith',\n",
    "          'company': 'Company 2',\n",
    "          'nationality': 'United States'\n",
    "      },\n",
    "      {\n",
    "          'name': 'EMP-0003',\n",
    "          'first_name': 'Andrew',\n",
    "          'last_name': 'Sebastian',\n",
    "          'full_name': 'Andrew Sebastian',\n",
    "          'company': 'Company 3',\n",
    "          'nationality': 'United States'\n",
    "      },\n",
    "      {\n",
    "          'name': 'EMP-0005',\n",
    "          'first_name': 'Ying Han',\n",
    "          'last_name': 'Tan',\n",
    "          'full_name': 'Ying Han Tan',\n",
    "          'company': 'Company 1',\n",
    "          'nationality': 'Australia'\n",
    "      },\n",
    "      {\n",
    "          'name': 'EMP-0015',\n",
    "          'first_name': 'Kenneth',\n",
    "          'last_name': 'Ng',\n",
    "          'full_name': 'Kenneth Ng',\n",
    "          'company': 'Company 3',\n",
    "          'nationality': 'United States'\n",
    "      },\n",
    "      {\n",
    "          'name': 'EMP-0018',\n",
    "          'first_name': 'Rubby',\n",
    "          'last_name': 'Lee',\n",
    "          'full_name': 'Rubby Lee',\n",
    "          'company': 'Company 2',\n",
    "          'nationality': 'Hong Kong'\n",
    "      },\n",
    "     {\n",
    "          'name': 'EMP-0017',\n",
    "          'first_name': 'Robert',\n",
    "          'last_name': 'White',\n",
    "          'full_name': 'Robert White',\n",
    "          'company': 'Company 1',\n",
    "          'nationality': 'United Kingdom'\n",
    "      }\n",
    "  ]"
   ]
  },
  {
   "cell_type": "markdown",
   "id": "35c70da9-bd47-447a-bb15-f024ca30e72c",
   "metadata": {},
   "source": [
    "## **Task 1**"
   ]
  },
  {
   "cell_type": "code",
   "execution_count": 4,
   "id": "e44e05cd-8d7f-41c4-8bbc-cb5b21e468a2",
   "metadata": {},
   "outputs": [
    {
     "name": "stdout",
     "output_type": "stream",
     "text": [
      "Hasil Task 1:\n",
      "[{'name': 'Company 3'}, {'name': 'Company 2'}, {'name': 'Company 1'}]\n"
     ]
    }
   ],
   "source": [
    "task_1 = sorted([{\"name\": company[\"name\"]} for company in company_detail_list], key=lambda x: x[\"name\"], reverse=True)\n",
    "print(\"Hasil Task 1:\")\n",
    "print(task_1)\n"
   ]
  },
  {
   "cell_type": "markdown",
   "id": "a6f38627-e16d-4187-8989-22771ce58224",
   "metadata": {
    "jp-MarkdownHeadingCollapsed": true
   },
   "source": [
    "## **Task 2**"
   ]
  },
  {
   "cell_type": "code",
   "execution_count": 5,
   "id": "ce22152a-5501-417a-abc2-58ae83aa422c",
   "metadata": {},
   "outputs": [
    {
     "name": "stdout",
     "output_type": "stream",
     "text": [
      "\n",
      "Output Expected Return:\n",
      "Company 1: Retail (United States)\n",
      "Company 2: Technology (United Kingdom)\n",
      "Company 3: Healthcare (United States)\n"
     ]
    }
   ],
   "source": [
    "print(\"\\nOutput Expected Return:\")\n",
    "for company in company_detail_list:\n",
    "    print(f\"{company['name']}: {company['domain']} ({company['country']})\")"
   ]
  },
  {
   "cell_type": "markdown",
   "id": "052d2e01-6699-4d76-be62-e6713e775429",
   "metadata": {},
   "source": [
    "## **Task 3**"
   ]
  },
  {
   "cell_type": "code",
   "execution_count": 10,
   "id": "65642fa3-079d-42bd-a417-d039b85f5c4f",
   "metadata": {},
   "outputs": [
    {
     "name": "stdout",
     "output_type": "stream",
     "text": [
      "Task 3 Result:\n",
      "{'Retail': ['John Doe', 'Ying Han Tan', 'Robert White'], 'Technology': ['Tom Smith', 'Rubby Lee'], 'Healthcare': ['Andrew Sebastian', 'Kenneth Ng']}\n",
      "\n",
      "\n"
     ]
    }
   ],
   "source": [
    "company_domains = {company[\"name\"]: company[\"domain\"] for company in company_detail_list}\n",
    "task_3_result = {}\n",
    "for employee in employee_detail_list:\n",
    "    domain = company_domains[employee[\"company\"]]\n",
    "    task_3_result.setdefault(domain, []).append(employee[\"full_name\"])\n",
    "print(\"Task 3 Result:\")\n",
    "print(task_3_result)\n",
    "print(\"\\n\")"
   ]
  },
  {
   "cell_type": "code",
   "execution_count": 11,
   "id": "1091cbbe-791d-477c-bd52-6a2a55d2a281",
   "metadata": {},
   "outputs": [
    {
     "name": "stdout",
     "output_type": "stream",
     "text": [
      "Task 3 Result: Employees Grouped by Company Domain\n",
      "============================================================\n",
      "Retail:\n",
      "  - John Doe\n",
      "  - Ying Han Tan\n",
      "  - Robert White\n",
      "Technology:\n",
      "  - Tom Smith\n",
      "  - Rubby Lee\n",
      "Healthcare:\n",
      "  - Andrew Sebastian\n",
      "  - Kenneth Ng\n",
      "\n",
      "\n"
     ]
    }
   ],
   "source": [
    "# Versi Yang Lebih Mudah Dibaca\n",
    "print(\"Task 3 Result: Employees Grouped by Company Domain\")\n",
    "print(\"=\" * 60)\n",
    "for domain, employees in task_3_result.items():\n",
    "    print(f\"{domain}:\")\n",
    "    for employee in employees:\n",
    "        print(f\"  - {employee}\")\n",
    "print(\"\\n\")"
   ]
  },
  {
   "cell_type": "markdown",
   "id": "f4af94eb-3c47-41d4-a2cf-3de926aa5d98",
   "metadata": {},
   "source": [
    "## **Task 4**"
   ]
  },
  {
   "cell_type": "code",
   "execution_count": 14,
   "id": "532d63e5-a5c5-4e87-b228-774872b9c27e",
   "metadata": {},
   "outputs": [
    {
     "name": "stdout",
     "output_type": "stream",
     "text": [
      "Task 4 Result:\n",
      "[{'full_name': 'John Doe', 'company': 'Company 1', 'country': 'United States'}, {'full_name': 'Tom Smith', 'company': 'Company 2', 'country': 'United Kingdom'}, {'full_name': 'Andrew Sebastian', 'company': 'Company 3', 'country': 'United States'}, {'full_name': 'Ying Han Tan', 'company': 'Company 1', 'country': 'United States'}, {'full_name': 'Kenneth Ng', 'company': 'Company 3', 'country': 'United States'}, {'full_name': 'Rubby Lee', 'company': 'Company 2', 'country': 'United Kingdom'}, {'full_name': 'Robert White', 'company': 'Company 1', 'country': 'United States'}]\n",
      "\n",
      "\n"
     ]
    }
   ],
   "source": [
    "company_countries = {company[\"name\"]: company[\"country\"] for company in company_detail_list}\n",
    "task_4_result = [\n",
    "    {\n",
    "        \"full_name\": employee[\"full_name\"],\n",
    "        \"company\": employee[\"company\"],\n",
    "        \"country\": company_countries[employee[\"company\"]]\n",
    "    }\n",
    "    for employee in employee_detail_list\n",
    "]\n",
    "print(\"Task 4 Result:\")\n",
    "print(task_4_result)\n",
    "print(\"\\n\")"
   ]
  },
  {
   "cell_type": "code",
   "execution_count": 15,
   "id": "f1217bc2-c26f-4f50-a7d5-cb745ec685ad",
   "metadata": {},
   "outputs": [
    {
     "name": "stdout",
     "output_type": "stream",
     "text": [
      "Task 4 Result: Employees with Company Country\n",
      "============================================================\n",
      "Full name : John Doe\n",
      "Company : Company 1\n",
      "Country : (United States\n",
      "============================================================\n",
      "Full name : Tom Smith\n",
      "Company : Company 2\n",
      "Country : (United Kingdom\n",
      "============================================================\n",
      "Full name : Andrew Sebastian\n",
      "Company : Company 3\n",
      "Country : (United States\n",
      "============================================================\n",
      "Full name : Ying Han Tan\n",
      "Company : Company 1\n",
      "Country : (United States\n",
      "============================================================\n",
      "Full name : Kenneth Ng\n",
      "Company : Company 3\n",
      "Country : (United States\n",
      "============================================================\n",
      "Full name : Rubby Lee\n",
      "Company : Company 2\n",
      "Country : (United Kingdom\n",
      "============================================================\n",
      "Full name : Robert White\n",
      "Company : Company 1\n",
      "Country : (United States\n",
      "============================================================\n",
      "\n",
      "\n"
     ]
    }
   ],
   "source": [
    "#Versi lebih mudah dibaca\n",
    "print(\"Task 4 Result: Employees with Company Country\")\n",
    "print(\"=\" * 60)\n",
    "for item in task_4_result:\n",
    "    print(f\"Full name : {item['full_name']}\")\n",
    "    print(f\"Company : {item['company']}\")\n",
    "    print(f\"Country : ({item['country']}\")\n",
    "    print(\"=\" * 60)\n",
    "print(\"\\n\")"
   ]
  },
  {
   "cell_type": "markdown",
   "id": "90085bf7-7b8d-4742-ad15-8681181d31d1",
   "metadata": {},
   "source": [
    "## **Task 5**"
   ]
  },
  {
   "cell_type": "code",
   "execution_count": 18,
   "id": "833e1c5f-2af8-4a04-9a53-e906c0f04757",
   "metadata": {},
   "outputs": [
    {
     "name": "stdout",
     "output_type": "stream",
     "text": [
      "Task 5 Result:\n",
      "[{'company': 'Company 1', 'employee_nationality': {'Australia': 2, 'United Kingdom': 1}}, {'company': 'Company 2', 'employee_nationality': {'United States': 1, 'Hong Kong': 1}}, {'company': 'Company 3', 'employee_nationality': {'United States': 2}}]\n"
     ]
    }
   ],
   "source": [
    "from collections import Counter\n",
    "task_5 = []\n",
    "for company in company_detail_list:\n",
    "    company_name = company[\"name\"]\n",
    "    nationalities = [\n",
    "        employee[\"nationality\"]\n",
    "        for employee in employee_detail_list\n",
    "        if employee[\"company\"] == company_name\n",
    "    ]\n",
    "    nationality_count = dict(Counter(nationalities))\n",
    "    task_5.append({\n",
    "        \"company\": company_name,\n",
    "        \"employee_nationality\": nationality_count\n",
    "    })\n",
    "print(\"Task 5 Result:\")\n",
    "print(task_5)"
   ]
  },
  {
   "cell_type": "code",
   "execution_count": 19,
   "id": "29751337-68d0-4230-bec1-a1db541518d9",
   "metadata": {},
   "outputs": [
    {
     "name": "stdout",
     "output_type": "stream",
     "text": [
      "Companies with Count of Employee Nationalities :\n",
      "============================================================\n",
      "Company 1:\n",
      "  - Australia: 2\n",
      "  - United Kingdom: 1\n",
      "Company 2:\n",
      "  - United States: 1\n",
      "  - Hong Kong: 1\n",
      "Company 3:\n",
      "  - United States: 2\n",
      "\n",
      "\n"
     ]
    }
   ],
   "source": [
    "#Versi lebih mudah dibaca\n",
    "print(\"Companies with Count of Employee Nationalities :\")\n",
    "print(\"=\" * 60)\n",
    "for company in task_5:\n",
    "    print(f\"{company['company']}:\")\n",
    "    for nationality, count in company[\"employee_nationality\"].items():\n",
    "        print(f\"  - {nationality}: {count}\")\n",
    "print(\"\\n\")"
   ]
  }
 ],
 "metadata": {
  "kernelspec": {
   "display_name": "Python 3 (ipykernel)",
   "language": "python",
   "name": "python3"
  },
  "language_info": {
   "codemirror_mode": {
    "name": "ipython",
    "version": 3
   },
   "file_extension": ".py",
   "mimetype": "text/x-python",
   "name": "python",
   "nbconvert_exporter": "python",
   "pygments_lexer": "ipython3",
   "version": "3.12.4"
  }
 },
 "nbformat": 4,
 "nbformat_minor": 5
}
